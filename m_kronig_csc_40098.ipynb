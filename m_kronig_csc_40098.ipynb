{
 "cells": [
  {
   "cell_type": "markdown",
   "metadata": {},
   "source": [
    "M Kronig (23029039)\n",
    "\n",
    "CSC-40098 Final Project\n",
    "\n",
    "Analysis of posts from the CS Educators Stack Exchange website\n",
    "(SS3) What questions are computer science eduators asking?"
   ]
  },
  {
   "cell_type": "markdown",
   "metadata": {},
   "source": [
    "Installing packages needed for the project"
   ]
  },
  {
   "cell_type": "code",
   "execution_count": 2,
   "metadata": {},
   "outputs": [],
   "source": [
    "# Importing packages needed for project\n",
    "import pandas as pd\n",
    "import numpy as np\n",
    "import matplotlib as plt\n",
    "import seaborn as sns"
   ]
  },
  {
   "cell_type": "markdown",
   "metadata": {},
   "source": [
    "Reading the data into a Pandas dataframe"
   ]
  },
  {
   "cell_type": "code",
   "execution_count": 3,
   "metadata": {},
   "outputs": [],
   "source": [
    "# Reading the data into a Pandas dataframe\n",
    "df = pd.read_csv('/Users/matthewkronig/Git/CSC-40098/CSED.csv')"
   ]
  },
  {
   "cell_type": "markdown",
   "metadata": {},
   "source": [
    "Looking at the shape of the data, there are 6499 rows and 11 columns"
   ]
  },
  {
   "cell_type": "code",
   "execution_count": 4,
   "metadata": {},
   "outputs": [
    {
     "data": {
      "text/plain": [
       "(6499, 11)"
      ]
     },
     "execution_count": 4,
     "metadata": {},
     "output_type": "execute_result"
    }
   ],
   "source": [
    "# Looking a the shape of the data \n",
    "df.shape"
   ]
  },
  {
   "cell_type": "markdown",
   "metadata": {},
   "source": [
    "Using the dataframe head() function to inspect the columns and a small set of the rows"
   ]
  },
  {
   "cell_type": "code",
   "execution_count": 5,
   "metadata": {},
   "outputs": [
    {
     "data": {
      "text/html": [
       "<div>\n",
       "<style scoped>\n",
       "    .dataframe tbody tr th:only-of-type {\n",
       "        vertical-align: middle;\n",
       "    }\n",
       "\n",
       "    .dataframe tbody tr th {\n",
       "        vertical-align: top;\n",
       "    }\n",
       "\n",
       "    .dataframe thead th {\n",
       "        text-align: right;\n",
       "    }\n",
       "</style>\n",
       "<table border=\"1\" class=\"dataframe\">\n",
       "  <thead>\n",
       "    <tr style=\"text-align: right;\">\n",
       "      <th></th>\n",
       "      <th>Id</th>\n",
       "      <th>PostTypeId</th>\n",
       "      <th>ParentId</th>\n",
       "      <th>Title</th>\n",
       "      <th>Body</th>\n",
       "      <th>CommentCount</th>\n",
       "      <th>ViewCount</th>\n",
       "      <th>AnswerCount</th>\n",
       "      <th>Score</th>\n",
       "      <th>Tags</th>\n",
       "      <th>CreationDate</th>\n",
       "    </tr>\n",
       "  </thead>\n",
       "  <tbody>\n",
       "    <tr>\n",
       "      <th>0</th>\n",
       "      <td>2</td>\n",
       "      <td>1</td>\n",
       "      <td>NaN</td>\n",
       "      <td>What autograding software do folks use for Jav...</td>\n",
       "      <td>&lt;p&gt;Grading currently either takes me a huge am...</td>\n",
       "      <td>9</td>\n",
       "      <td>5402.0</td>\n",
       "      <td>8.0</td>\n",
       "      <td>26</td>\n",
       "      <td>&lt;java&gt;&lt;grading&gt;&lt;auto-graders&gt;</td>\n",
       "      <td>2017-05-23 14:20:02</td>\n",
       "    </tr>\n",
       "    <tr>\n",
       "      <th>1</th>\n",
       "      <td>3</td>\n",
       "      <td>1</td>\n",
       "      <td>NaN</td>\n",
       "      <td>Is it possible to ensure division of labor on ...</td>\n",
       "      <td>&lt;p&gt;Let's say I've assigned my Intro to CS clas...</td>\n",
       "      <td>1</td>\n",
       "      <td>602.0</td>\n",
       "      <td>4.0</td>\n",
       "      <td>10</td>\n",
       "      <td>&lt;group-work&gt;</td>\n",
       "      <td>2017-05-23 14:20:35</td>\n",
       "    </tr>\n",
       "    <tr>\n",
       "      <th>2</th>\n",
       "      <td>4</td>\n",
       "      <td>1</td>\n",
       "      <td>NaN</td>\n",
       "      <td>Objects Lab Before Inheritance and Polymorphism</td>\n",
       "      <td>&lt;p&gt;I am finding it very difficult to create a ...</td>\n",
       "      <td>3</td>\n",
       "      <td>712.0</td>\n",
       "      <td>11.0</td>\n",
       "      <td>9</td>\n",
       "      <td>&lt;object-oriented-paradigm&gt;&lt;labs&gt;&lt;ap-computer-s...</td>\n",
       "      <td>2017-05-23 14:21:14</td>\n",
       "    </tr>\n",
       "    <tr>\n",
       "      <th>3</th>\n",
       "      <td>6</td>\n",
       "      <td>1</td>\n",
       "      <td>NaN</td>\n",
       "      <td>Teaching Induction to Prove the Correctness of...</td>\n",
       "      <td>&lt;p&gt;This is a subject that I have had a lot of ...</td>\n",
       "      <td>1</td>\n",
       "      <td>413.0</td>\n",
       "      <td>3.0</td>\n",
       "      <td>8</td>\n",
       "      <td>&lt;lesson-ideas&gt;&lt;cs-theory&gt;&lt;induction&gt;</td>\n",
       "      <td>2017-05-23 14:24:14</td>\n",
       "    </tr>\n",
       "    <tr>\n",
       "      <th>4</th>\n",
       "      <td>7</td>\n",
       "      <td>1</td>\n",
       "      <td>NaN</td>\n",
       "      <td>Should the first Programming/Algorithms class ...</td>\n",
       "      <td>&lt;p&gt;When I was studying, my professors had diff...</td>\n",
       "      <td>7</td>\n",
       "      <td>1404.0</td>\n",
       "      <td>9.0</td>\n",
       "      <td>22</td>\n",
       "      <td>&lt;pseudo-code&gt;</td>\n",
       "      <td>2017-05-23 14:25:23</td>\n",
       "    </tr>\n",
       "  </tbody>\n",
       "</table>\n",
       "</div>"
      ],
      "text/plain": [
       "   Id  PostTypeId  ParentId  \\\n",
       "0   2           1       NaN   \n",
       "1   3           1       NaN   \n",
       "2   4           1       NaN   \n",
       "3   6           1       NaN   \n",
       "4   7           1       NaN   \n",
       "\n",
       "                                               Title  \\\n",
       "0  What autograding software do folks use for Jav...   \n",
       "1  Is it possible to ensure division of labor on ...   \n",
       "2    Objects Lab Before Inheritance and Polymorphism   \n",
       "3  Teaching Induction to Prove the Correctness of...   \n",
       "4  Should the first Programming/Algorithms class ...   \n",
       "\n",
       "                                                Body  CommentCount  ViewCount  \\\n",
       "0  <p>Grading currently either takes me a huge am...             9     5402.0   \n",
       "1  <p>Let's say I've assigned my Intro to CS clas...             1      602.0   \n",
       "2  <p>I am finding it very difficult to create a ...             3      712.0   \n",
       "3  <p>This is a subject that I have had a lot of ...             1      413.0   \n",
       "4  <p>When I was studying, my professors had diff...             7     1404.0   \n",
       "\n",
       "   AnswerCount  Score                                               Tags  \\\n",
       "0          8.0     26                      <java><grading><auto-graders>   \n",
       "1          4.0     10                                       <group-work>   \n",
       "2         11.0      9  <object-oriented-paradigm><labs><ap-computer-s...   \n",
       "3          3.0      8               <lesson-ideas><cs-theory><induction>   \n",
       "4          9.0     22                                      <pseudo-code>   \n",
       "\n",
       "          CreationDate  \n",
       "0  2017-05-23 14:20:02  \n",
       "1  2017-05-23 14:20:35  \n",
       "2  2017-05-23 14:21:14  \n",
       "3  2017-05-23 14:24:14  \n",
       "4  2017-05-23 14:25:23  "
      ]
     },
     "execution_count": 5,
     "metadata": {},
     "output_type": "execute_result"
    }
   ],
   "source": [
    "df.head()"
   ]
  },
  {
   "cell_type": "markdown",
   "metadata": {},
   "source": [
    "Using the dtypes method to have a look a the the datatypes Pandas has assigned"
   ]
  },
  {
   "cell_type": "code",
   "execution_count": 6,
   "metadata": {},
   "outputs": [
    {
     "data": {
      "text/plain": [
       "Id                int64\n",
       "PostTypeId        int64\n",
       "ParentId        float64\n",
       "Title            object\n",
       "Body             object\n",
       "CommentCount      int64\n",
       "ViewCount       float64\n",
       "AnswerCount     float64\n",
       "Score             int64\n",
       "Tags             object\n",
       "CreationDate     object\n",
       "dtype: object"
      ]
     },
     "execution_count": 6,
     "metadata": {},
     "output_type": "execute_result"
    }
   ],
   "source": [
    "df.dtypes"
   ]
  }
 ],
 "metadata": {
  "kernelspec": {
   "display_name": "Python 3",
   "language": "python",
   "name": "python3"
  },
  "language_info": {
   "codemirror_mode": {
    "name": "ipython",
    "version": 3
   },
   "file_extension": ".py",
   "mimetype": "text/x-python",
   "name": "python",
   "nbconvert_exporter": "python",
   "pygments_lexer": "ipython3",
   "version": "3.9.6"
  }
 },
 "nbformat": 4,
 "nbformat_minor": 2
}
